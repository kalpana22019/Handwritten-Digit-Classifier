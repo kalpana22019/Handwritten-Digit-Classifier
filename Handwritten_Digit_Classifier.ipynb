{
  "nbformat": 4,
  "nbformat_minor": 0,
  "metadata": {
    "colab": {
      "name": "Handwritten_Digit_Classifier.ipynb",
      "provenance": []
    },
    "kernelspec": {
      "name": "python3",
      "display_name": "Python 3"
    },
    "language_info": {
      "name": "python"
    }
  },
  "cells": [
    {
      "cell_type": "markdown",
      "metadata": {
        "id": "DpAwAn1TcFy1"
      },
      "source": [
        "**Import Libraries**"
      ]
    },
    {
      "cell_type": "code",
      "metadata": {
        "id": "VFpbKTrfcISY"
      },
      "source": [
        "import tensorflow as tf\n",
        "import matplotlib.pyplot as plt"
      ],
      "execution_count": null,
      "outputs": []
    },
    {
      "cell_type": "markdown",
      "metadata": {
        "id": "rVfYm-zrfU1M"
      },
      "source": [
        "**Dataset**"
      ]
    },
    {
      "cell_type": "code",
      "metadata": {
        "id": "KvQIRR7hfT6i"
      },
      "source": [
        "mnist = tf.keras.datasets.mnist\n",
        "(X_train,y_train) ,(X_test,y_test) = mnist.load_data()"
      ],
      "execution_count": null,
      "outputs": []
    },
    {
      "cell_type": "code",
      "metadata": {
        "colab": {
          "base_uri": "https://localhost:8080/"
        },
        "id": "IJqNNtBogi7I",
        "outputId": "a005336d-722b-4c01-dd1b-e85306c9f46b"
      },
      "source": [
        "print(y_train[15])"
      ],
      "execution_count": null,
      "outputs": [
        {
          "output_type": "stream",
          "text": [
            "7\n"
          ],
          "name": "stdout"
        }
      ]
    },
    {
      "cell_type": "code",
      "metadata": {
        "colab": {
          "base_uri": "https://localhost:8080/",
          "height": 265
        },
        "id": "VrlA1hYghJv8",
        "outputId": "db136cce-7387-47ff-dc23-d4ba3b40d0d1"
      },
      "source": [
        "plt.imshow(X_train[0], cmap = plt.cm.binary)\n",
        "plt.show()"
      ],
      "execution_count": null,
      "outputs": [
        {
          "output_type": "display_data",
          "data": {
            "image/png": "[encoded data removed]",
            "text/plain": [
              "<Figure size 432x288 with 1 Axes>"
            ]
          },
          "metadata": {
            "tags": [],
            "needs_background": "light"
          }
        }
      ]
    },
    {
      "cell_type": "markdown",
      "metadata": {
        "id": "-f3_zO2TkD9_"
      },
      "source": [
        "**Normalization**"
      ]
    },
    {
      "cell_type": "code",
      "metadata": {
        "id": "HC1c8OzuiynR"
      },
      "source": [
        "X_train = tf.keras.utils.normalize(X_train, axis = 1)\n",
        "X_test = tf.keras.utils.normalize(X_test,axis =1 )"
      ],
      "execution_count": null,
      "outputs": []
    },
    {
      "cell_type": "code",
      "metadata": {
        "colab": {
          "base_uri": "https://localhost:8080/",
          "height": 265
        },
        "id": "XyJEGLOykloi",
        "outputId": "b3e72ad5-03f0-4ad2-807c-3b9c7f38de39"
      },
      "source": [
        "plt.imshow(X_train[0], cmap = plt.cm.binary)\n",
        "plt.show()"
      ],
      "execution_count": null,
      "outputs": [
        {
          "output_type": "display_data",
          "data": {
            "image/png": "[encoded data removed]",
            "text/plain": [
              "<Figure size 432x288 with 1 Axes>"
            ]
          },
          "metadata": {
            "tags": [],
            "needs_background": "light"
          }
        }
      ]
    },
    {
      "cell_type": "code",
      "metadata": {
        "colab": {
          "base_uri": "https://localhost:8080/"
        },
        "id": "QeUClULGkpBR",
        "outputId": "f713f6cc-1d78-4e69-ded8-9ebc0aea6ea9"
      },
      "source": [
        "print(X_train[0].shape)"
      ],
      "execution_count": null,
      "outputs": [
        {
          "output_type": "stream",
          "text": [
            "(28, 28)\n"
          ],
          "name": "stdout"
        }
      ]
    },
    {
      "cell_type": "markdown",
      "metadata": {
        "id": "KaUEvqY-lIu_"
      },
      "source": [
        "**Neural Network**"
      ]
    },
    {
      "cell_type": "code",
      "metadata": {
        "id": "08G2rC3Rkxuw"
      },
      "source": [
        "model = tf.keras.models.Sequential()\n",
        "model.add(tf.keras.layers.Flatten()) #Flattening (28,28) --> 28*28\n",
        "model.add(tf.keras.layers.Dense(256,activation = tf.nn.relu)) #Hidden Layer 1 with 256 units\n",
        "model.add(tf.keras.layers.Dense(256,activation = tf.nn.relu)) #Hidden Layer 2 with 256 units\n",
        "model.add(tf.keras.layers.Dense(256,activation = tf.nn.relu)) #Hidden Layer 3 with 256 units\n",
        "model.add(tf.keras.layers.Dense(10,activation = tf.nn.softmax)) #Final Layer with softmax activation"
      ],
      "execution_count": null,
      "outputs": []
    },
    {
      "cell_type": "code",
      "metadata": {
        "id": "PGx58ctKmewk"
      },
      "source": [
        "model.compile(optimizer = 'adam',\n",
        "              loss = 'sparse_categorical_crossentropy',\n",
        "              metrics = ['accuracy'])"
      ],
      "execution_count": null,
      "outputs": []
    },
    {
      "cell_type": "code",
      "metadata": {
        "colab": {
          "base_uri": "https://localhost:8080/"
        },
        "id": "mKKupaW3nCfj",
        "outputId": "b8c0a50e-9bf1-422b-b5a5-57d9eca29778"
      },
      "source": [
        "model.fit(X_train,y_train, epochs = 5)"
      ],
      "execution_count": null,
      "outputs": [
        {
          "output_type": "stream",
          "text": [
            "Epoch 1/5\n",
            "1875/1875 [==============================] - 9s 5ms/step - loss: 0.2314 - accuracy: 0.9287\n",
            "Epoch 2/5\n",
            "1875/1875 [==============================] - 8s 4ms/step - loss: 0.0977 - accuracy: 0.9690\n",
            "Epoch 3/5\n",
            "1875/1875 [==============================] - 9s 5ms/step - loss: 0.0668 - accuracy: 0.9791\n",
            "Epoch 4/5\n",
            "1875/1875 [==============================] - 9s 5ms/step - loss: 0.0491 - accuracy: 0.9843\n",
            "Epoch 5/5\n",
            "1875/1875 [==============================] - 8s 4ms/step - loss: 0.0403 - accuracy: 0.9869\n"
          ],
          "name": "stdout"
        },
        {
          "output_type": "execute_result",
          "data": {
            "text/plain": [
              "<tensorflow.python.keras.callbacks.History at 0x7f4852785fd0>"
            ]
          },
          "metadata": {
            "tags": []
          },
          "execution_count": 28
        }
      ]
    },
    {
      "cell_type": "code",
      "metadata": {
        "colab": {
          "base_uri": "https://localhost:8080/"
        },
        "id": "yTX4RcOznV3v",
        "outputId": "23896dae-6ae6-4e35-9c5e-5cde42eb706b"
      },
      "source": [
        "loss , acc = model.evaluate(X_test,y_test)\n",
        "print(loss)\n",
        "print(acc)"
      ],
      "execution_count": null,
      "outputs": [
        {
          "output_type": "stream",
          "text": [
            "313/313 [==============================] - 1s 2ms/step - loss: 0.1148 - accuracy: 0.9710\n",
            "0.1148204356431961\n",
            "0.9710000157356262\n"
          ],
          "name": "stdout"
        }
      ]
    },
    {
      "cell_type": "code",
      "metadata": {
        "colab": {
          "base_uri": "https://localhost:8080/"
        },
        "id": "AkIke_ajnmeO",
        "outputId": "9a5e32ff-2a77-47aa-eeaf-73b3751f570c"
      },
      "source": [
        "predictions = model.predict(X_test)\n",
        "print(predictions)"
      ],
      "execution_count": null,
      "outputs": [
        {
          "output_type": "stream",
          "text": [
            "[[6.81090330e-13 7.63152930e-10 2.04724082e-09 ... 1.00000000e+00\n",
            "  1.67326981e-12 2.26129074e-10]\n",
            " [3.94383257e-13 5.40036592e-04 9.99459922e-01 ... 1.16395825e-11\n",
            "  3.79720214e-11 1.34327245e-18]\n",
            " [1.18866375e-08 9.99858379e-01 4.06454637e-06 ... 1.04875522e-04\n",
            "  2.86807926e-06 6.02699268e-09]\n",
            " ...\n",
            " [3.09808780e-15 2.10276380e-10 8.60467166e-12 ... 1.06035838e-08\n",
            "  8.39072492e-11 1.81804194e-06]\n",
            " [1.65903184e-05 9.79472702e-07 2.40712983e-09 ... 3.50319351e-06\n",
            "  3.13024095e-04 2.15191122e-07]\n",
            " [9.52822932e-10 1.92159205e-10 3.11953869e-07 ... 6.50528242e-12\n",
            "  4.37576586e-10 1.40564467e-13]]\n"
          ],
          "name": "stdout"
        }
      ]
    },
    {
      "cell_type": "code",
      "metadata": {
        "colab": {
          "base_uri": "https://localhost:8080/"
        },
        "id": "f6syNW3PnuWk",
        "outputId": "5867f889-455f-4a56-aeaa-0fce50eafb42"
      },
      "source": [
        "import numpy as np\n",
        "print(np.argmax(predictions[0]))"
      ],
      "execution_count": null,
      "outputs": [
        {
          "output_type": "stream",
          "text": [
            "7\n"
          ],
          "name": "stdout"
        }
      ]
    },
    {
      "cell_type": "code",
      "metadata": {
        "colab": {
          "base_uri": "https://localhost:8080/",
          "height": 265
        },
        "id": "qOaD4vquoZPC",
        "outputId": "a762616a-adcd-409a-d541-aad869924a86"
      },
      "source": [
        "plt.imshow(X_test[0],cmap = plt.cm.binary)\n",
        "plt.show()"
      ],
      "execution_count": null,
      "outputs": [
        {
          "output_type": "display_data",
          "data": {
            "image/png": "[encoded data removed]",
            "text/plain": [
              "<Figure size 432x288 with 1 Axes>"
            ]
          },
          "metadata": {
            "tags": [],
            "needs_background": "light"
          }
        }
      ]
    },
    {
      "cell_type": "code",
      "metadata": {
        "id": "s6HBE-5aoi_C"
      },
      "source": [
        ""
      ],
      "execution_count": null,
      "outputs": []
    }
  ]
}